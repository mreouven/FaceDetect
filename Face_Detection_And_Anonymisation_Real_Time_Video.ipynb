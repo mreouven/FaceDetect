{
 "cells": [
  {
   "cell_type": "code",
   "execution_count": 4,
   "metadata": {
    "ExecuteTime": {
     "end_time": "2020-12-14T09:26:37.004941Z",
     "start_time": "2020-12-14T09:26:37.003164Z"
    }
   },
   "outputs": [],
   "source": [
    "#https://www.mygreatlearning.com/blog/real-time-face-detection/#sh1\n",
    "#https://medium.com/@bipinadvani/face-recognition-and-blurring-in-webcam-using-cv2-python-5c4c589e6e59\n",
    "#https://pythonprogramming.net/haar-cascade-face-eye-detection-python-opencv-tutorial/\n",
    "#https://github.com/kurttepelikerim/FaceDetectionAnonymization/blob/master/FaceDetection.py\n",
    "#https://docs.opencv.org/master/d4/d13/tutorial_py_filtering.html\n",
    "#https://github.com/kunalgupta777/OpenCV-Face-Filters\n",
    "#https://sublimerobots.com/2015/02/dancing-mustaches/\n",
    "#https://github.com/charlielito/snapchat-filters-opencv/blob/master/README.md"
   ]
  },
  {
   "cell_type": "markdown",
   "metadata": {},
   "source": [
    "# Face detection and anonymisation in real time video"
   ]
  },
  {
   "cell_type": "code",
   "execution_count": 1,
   "metadata": {
    "ExecuteTime": {
     "end_time": "2020-12-14T09:19:55.758830Z",
     "start_time": "2020-12-14T09:19:55.638196Z"
    }
   },
   "outputs": [],
   "source": [
    "import cv2\n",
    "import numpy as np\n",
    "import os"
   ]
  },
  {
   "cell_type": "markdown",
   "metadata": {},
   "source": [
    "##  Load and configure Haar Cascade Classifiers"
   ]
  },
  {
   "cell_type": "code",
   "execution_count": 2,
   "metadata": {
    "ExecuteTime": {
     "end_time": "2020-12-14T09:22:16.201177Z",
     "start_time": "2020-12-14T09:22:16.173503Z"
    }
   },
   "outputs": [],
   "source": [
    "# location of OpenCV Haar Cascade Classifiers:\n",
    "cascPath = os.path.dirname( cv2.__file__) + \"/data/haarcascade_frontalface_alt2.xml\"\n",
    "cascPath_eye = os.path.dirname( cv2.__file__) + \"/data/haarcascade_eye.xml\"\n",
    "# build our cv2 Cascade Classifiers\n",
    "faceCascade = cv2.CascadeClassifier(cascPath)\n",
    "eye_cascade = cv2.CascadeClassifier(cascPath_eye)"
   ]
  },
  {
   "cell_type": "markdown",
   "metadata": {},
   "source": [
    "## Load and configure images (.png with alpha transparency)"
   ]
  },
  {
   "cell_type": "code",
   "execution_count": 3,
   "metadata": {
    "ExecuteTime": {
     "end_time": "2020-12-14T09:25:56.321530Z",
     "start_time": "2020-12-14T09:25:56.302673Z"
    },
    "run_control": {
     "marked": false
    }
   },
   "outputs": [],
   "source": [
    "# Load our overlay image: mustache.png\n",
    "mst = cv2.imread('moustache.png',-1)\n",
    "filter_size_ratio_glasse = mst.shape[0] / mst.shape[1]\n",
    "# Load our overlay image: eyes.png\n",
    "gls = cv2.imread(\"eyes.png\",-1)\n",
    "filter_size_ratio_glasse = gls.shape[0] / gls.shape[1]\n",
    "# Load our overlay image: black.png\n",
    "blk = cv2.imread(\"black.png\",-1)\n",
    "filter_size_ratio_black = blk.shape[0] / blk.shape[1]\n",
    "\n",
    "#Variable initialization\n",
    "blur_faced = False\n",
    "framed = False\n",
    "mustache = False\n",
    "framed_eyes = False\n",
    "blur_faced_2 = False\n",
    "blur_faced_3 = False\n",
    "glasse = False\n",
    "black = False"
   ]
  },
  {
   "cell_type": "markdown",
   "metadata": {},
   "source": [
    " # Main program loop"
   ]
  },
  {
   "cell_type": "code",
   "execution_count": null,
   "metadata": {
    "ExecuteTime": {
     "start_time": "2020-12-14T09:16:39.190Z"
    }
   },
   "outputs": [],
   "source": [
    "# collect video input from first webcam on system\n",
    "cap = cv2.VideoCapture(0)\n",
    "\n",
    "while True:\n",
    "    # Capture video feed\n",
    "    ret,frame = cap.read()\n",
    "    \n",
    "    if(ret):\n",
    "        \n",
    "        # Create greyscale image from the video feed\n",
    "        gray = cv2.cvtColor(frame,cv2.COLOR_BGR2GRAY)\n",
    "        frame = cv2.cvtColor(frame,cv2.COLOR_BGR2BGRA)\n",
    "        \n",
    "        # Detect faces in input video stream\n",
    "        f = faceCascade.detectMultiScale(gray, scaleFactor=1.1,minNeighbors=7)\n",
    "\n",
    "        # Iterate over each face found\n",
    "        for x,y,w,h in f:\n",
    "            #region of interest of each frame\n",
    "            roi_gray = gray[y:y+h, x:x+w]\n",
    "            roi_color = frame[y:y+h, x:x+w]\n",
    "            \n",
    "           # Detect eyes in input video stream\n",
    "            eyes = eye_cascade.detectMultiScale(roi_gray, scaleFactor=1.35,minNeighbors=6)\n",
    "            \n",
    "            if blur_faced:\n",
    "                # apply a gaussian blur on this new rectangle image\n",
    "                roi_color = cv2.GaussianBlur(roi_color,(23, 23), 30)\n",
    "                # merge this blurry rectangle to our final image\n",
    "                frame[y:y+roi_color.shape[0], x:x+roi_color.shape[1]] = roi_color\n",
    "                \n",
    "            if blur_faced_2:\n",
    "                # apply a median blur on this new rectangle image\n",
    "                roi_color = cv2.medianBlur(roi_color,23)\n",
    "                # merge this blurry rectangle to our final image\n",
    "                frame[y:y+roi_color.shape[0], x:x+roi_color.shape[1]] = roi_color\n",
    "                \n",
    "            if blur_faced_3:\n",
    "                # apply a Bileteral Filter on this new rectangle image\n",
    "                roi_color = cv2.bilateralFilter(roi_color,23, 70, 70)\n",
    "                # merge this blurry rectangle to our final image\n",
    "                frame[y:y+roi_color.shape[0], x:x+roi_color.shape[1]] = roi_color \n",
    "                \n",
    "            if framed:\n",
    "                # Draw rectangle around the faces\n",
    "                cv2.rectangle(frame,(x,y),(x+h,y+w),(0,255,0),2)\n",
    "                \n",
    "            if framed_eyes:\n",
    "                #Iterate over each eyes found\n",
    "                for (ex,ey,ew,eh) in eyes:\n",
    "                    cv2.rectangle(roi_color,(ex,ey),(ex+ew,ey+eh),(0,255,0),2)\n",
    "                    \n",
    "            if mustache:\n",
    "                # w as face width h as face height\n",
    "                mst_width = int(w*0.7)+1\n",
    "                mst_height = int(h*0.2)+1\n",
    "                \n",
    "                # Resize the original image\n",
    "                mst = cv2.resize(mst,(mst_width,mst_height))\n",
    "        \n",
    "                for i in range(int(0.7*h),int(0.7*h)+mst_height):\n",
    "                    for j in range(int(0.2*w),int(0.2*w)+mst_width):\n",
    "                        for k in range(3):\n",
    "                            if mst[i-int(0.7*h)][j-int(0.2*w)][k] < 235:\n",
    "                                frame[y+i][x+j][k] = mst[i-int(0.7*h)][j-int(0.2*w)][k]\n",
    "            if glasse:\n",
    "                #Iterate over each eyes found\n",
    "                for (ex,ey,ew,eh) in eyes:\n",
    "                    cv2.rectangle(roi_color,(ex,ey),(ex+ew,ey+eh),(0,255,0),2)\n",
    "                    roi_eyes = roi_gray[ey:ey + eh, ex:ex + ew]\n",
    "                    # Resize the original image\n",
    "                    gls = cv2.resize(gls.copy(),(ew, int(ew/filter_size_ratio_glasse)))\n",
    "\n",
    "                    for i in range(gls.shape[0]):\n",
    "                        for j in range(gls.shape[1]):\n",
    "                            if gls[i,j][3] != 0:\n",
    "                                roi_color[ey+i, ex+j] = gls[i,j] \n",
    "                                \n",
    "            if black:\n",
    "                #Iterate over each eyes found\n",
    "                for (ex,ey,ew,eh) in eyes:\n",
    "                    cv2.rectangle(roi_color,(ex,ey),(ex+ew,ey+eh),(0,255,0),2)\n",
    "                    roi_eyes = roi_gray[ey:ey + eh, ex:ex + ew]\n",
    "                    # Resize the original image\n",
    "                    blk = cv2.resize(blk.copy(),(ew, int(ew/filter_size_ratio_black)))\n",
    "\n",
    "                    for i in range(blk.shape[0]):\n",
    "                        for j in range(blk.shape[1]):\n",
    "                            if blk[i,j][3] != 0:\n",
    "                                roi_color[ey+i, ex+j] = blk[i,j]                    \n",
    "                                \n",
    "        frame = cv2.cvtColor(frame,cv2.COLOR_BGRA2BGR)  \n",
    "        \n",
    "        \n",
    "        # Display the resulting frame    \n",
    "        cv2.imshow('Face Detection - Projet INF573',frame)\n",
    "    ch = 0xFF &cv2.waitKey(1)\n",
    "    \n",
    "    if ch == ord(\"c\"):\n",
    "        blur_faced = not blur_faced\n",
    "        \n",
    "    if ch == ord(\"f\"):\n",
    "        black = not black\n",
    "        \n",
    "    if ch == ord(\"g\"):\n",
    "        glasse = not glasse\n",
    "        \n",
    "    if ch == ord(\"e\"):\n",
    "        mustache = not mustache\n",
    "        \n",
    "    if ch == ord(\"d\"):\n",
    "        blur_faced_2 = not blur_faced_2\n",
    "        \n",
    "    if ch == ord(\"b\"):\n",
    "        framed_eyes = not framed_eyes\n",
    "\n",
    "    if ch == ord(\"a\"):\n",
    "        framed = not framed\n",
    "        \n",
    "    if ch == ord(\"w\"):\n",
    "        blur_faced_3 = not blur_faced_3\n",
    "        \n",
    "    if ch==ord('s'):\n",
    "        count=0\n",
    "        count=count+1\n",
    "        name=\"frame\"+str(count)+\".jpg\"\n",
    "        cv2.imwrite(name,frame)\n",
    "\n",
    "    if ch ==ord(\"q\"):\n",
    "        break\n",
    "        \n",
    "        \n",
    "# When everything is done, release the capture\n",
    "cap.release()\n",
    "cv2.destroyAllWindows()"
   ]
  }
 ],
 "metadata": {
  "hide_input": false,
  "kernelspec": {
   "display_name": "Python 3",
   "language": "python",
   "name": "python3"
  },
  "language_info": {
   "codemirror_mode": {
    "name": "ipython",
    "version": 3
   },
   "file_extension": ".py",
   "mimetype": "text/x-python",
   "name": "python",
   "nbconvert_exporter": "python",
   "pygments_lexer": "ipython3",
   "version": "3.8.3"
  },
  "latex_envs": {
   "LaTeX_envs_menu_present": true,
   "autoclose": false,
   "autocomplete": true,
   "bibliofile": "biblio.bib",
   "cite_by": "apalike",
   "current_citInitial": 1,
   "eqLabelWithNumbers": true,
   "eqNumInitial": 1,
   "hotkeys": {
    "equation": "Ctrl-E",
    "itemize": "Ctrl-I"
   },
   "labels_anchors": false,
   "latex_user_defs": false,
   "report_style_numbering": false,
   "user_envs_cfg": false
  },
  "nbTranslate": {
   "displayLangs": [
    "*"
   ],
   "hotkey": "alt-t",
   "langInMainMenu": true,
   "sourceLang": "en",
   "targetLang": "fr",
   "useGoogleTranslate": true
  },
  "toc": {
   "base_numbering": 1,
   "nav_menu": {},
   "number_sections": true,
   "sideBar": true,
   "skip_h1_title": false,
   "title_cell": "Table of Contents",
   "title_sidebar": "Contents",
   "toc_cell": false,
   "toc_position": {},
   "toc_section_display": true,
   "toc_window_display": false
  },
  "varInspector": {
   "cols": {
    "lenName": 16,
    "lenType": 16,
    "lenVar": 40
   },
   "kernels_config": {
    "python": {
     "delete_cmd_postfix": "",
     "delete_cmd_prefix": "del ",
     "library": "var_list.py",
     "varRefreshCmd": "print(var_dic_list())"
    },
    "r": {
     "delete_cmd_postfix": ") ",
     "delete_cmd_prefix": "rm(",
     "library": "var_list.r",
     "varRefreshCmd": "cat(var_dic_list()) "
    }
   },
   "types_to_exclude": [
    "module",
    "function",
    "builtin_function_or_method",
    "instance",
    "_Feature"
   ],
   "window_display": false
  }
 },
 "nbformat": 4,
 "nbformat_minor": 4
}
