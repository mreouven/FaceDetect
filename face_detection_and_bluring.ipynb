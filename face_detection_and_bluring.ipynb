{
 "cells": [
  {
   "cell_type": "code",
   "execution_count": null,
   "metadata": {
    "ExecuteTime": {
     "start_time": "2020-11-24T10:47:27.354Z"
    }
   },
   "outputs": [],
   "source": [
    "#https://www.mygreatlearning.com/blog/real-time-face-detection/#sh1\n",
    "#https://medium.com/@bipinadvani/face-recognition-and-blurring-in-webcam-using-cv2-python-5c4c589e6e59\n",
    "#https://pythonprogramming.net/haar-cascade-face-eye-detection-python-opencv-tutorial/\n",
    "#https://github.com/kurttepelikerim/FaceDetectionAnonymization/blob/master/FaceDetection.py\n",
    "\n",
    "import cv2\n",
    "import numpy as np\n",
    "import os\n",
    "cascPath = os.path.dirname( cv2.__file__) + \"/data/haarcascade_frontalface_alt2.xml\"\n",
    "cascPath_eye = os.path.dirname( cv2.__file__) + \"/data/haarcascade_eye.xml\"\n",
    "#to load our classifier\n",
    "faceCascade = cv2.CascadeClassifier(cascPath)\n",
    "eye_cascade = cv2.CascadeClassifier(cascPath_eye)\n",
    "cap = cv2.VideoCapture(0)\n",
    "\n",
    "blur = False\n",
    "framed = False\n",
    "framed_eyes = False\n",
    "blur_eyes = False\n",
    "\n",
    "while True:\n",
    "    ret,frame = cap.read()\n",
    "    if(ret):\n",
    "        gray = cv2.cvtColor(frame,cv2.COLOR_BGR2GRAY)\n",
    "        f = faceCascade.detectMultiScale(gray, scaleFactor=1.1,minNeighbors=7)\n",
    "\n",
    "        for x,y,w,h in f:\n",
    "            roi_gray = gray[y:y+h, x:x+w]\n",
    "            roi_color = frame[y:y+h, x:x+w]\n",
    "            eyes = eye_cascade.detectMultiScale(roi_gray, scaleFactor=1.35,minNeighbors=6)\n",
    "            \n",
    "            if blur:\n",
    "                # apply a gaussian blur on this new recangle image\n",
    "                roi_color = cv2.GaussianBlur(roi_color,(23, 23), 30)\n",
    "                # merge this blurry rectangle to our final image\n",
    "                frame[y:y+roi_color.shape[0], x:x+roi_color.shape[1]] = roi_color\n",
    "                \n",
    "            if framed:\n",
    "                cv2.rectangle(frame,(x,y),(x+h,y+w),(0,255,0),2)\n",
    "                \n",
    "            if framed_eyes:\n",
    "                for (ex,ey,ew,eh) in eyes:\n",
    "                    cv2.rectangle(roi_color,(ex,ey),(ex+ew,ey+eh),(0,255,0),2)\n",
    "                \n",
    "            \n",
    "        cv2.imshow('Face Recognized',frame)\n",
    "    ch = 0xFF &cv2.waitKey(1)\n",
    "    \n",
    "    if ch == ord(\"b\"):\n",
    "        blur = not blur\n",
    "        \n",
    "    if ch == ord(\"e\"):\n",
    "        framed_eyes = not framed_eyes\n",
    "\n",
    "    if ch == ord(\"f\"):\n",
    "        framed = not framed\n",
    "\n",
    "    if ch ==ord(\"q\"):\n",
    "        break\n",
    "\n",
    "cap.release()\n",
    "cv2.destroyAllWindows()"
   ]
  },
  {
   "cell_type": "code",
   "execution_count": null,
   "metadata": {},
   "outputs": [],
   "source": []
  },
  {
   "cell_type": "code",
   "execution_count": null,
   "metadata": {},
   "outputs": [],
   "source": []
  }
 ],
 "metadata": {
  "hide_input": false,
  "kernelspec": {
   "display_name": "Python 3",
   "language": "python",
   "name": "python3"
  },
  "language_info": {
   "codemirror_mode": {
    "name": "ipython",
    "version": 3
   },
   "file_extension": ".py",
   "mimetype": "text/x-python",
   "name": "python",
   "nbconvert_exporter": "python",
   "pygments_lexer": "ipython3",
   "version": "3.8.3"
  },
  "latex_envs": {
   "LaTeX_envs_menu_present": true,
   "autoclose": false,
   "autocomplete": true,
   "bibliofile": "biblio.bib",
   "cite_by": "apalike",
   "current_citInitial": 1,
   "eqLabelWithNumbers": true,
   "eqNumInitial": 1,
   "hotkeys": {
    "equation": "Ctrl-E",
    "itemize": "Ctrl-I"
   },
   "labels_anchors": false,
   "latex_user_defs": false,
   "report_style_numbering": false,
   "user_envs_cfg": false
  },
  "nbTranslate": {
   "displayLangs": [
    "*"
   ],
   "hotkey": "alt-t",
   "langInMainMenu": true,
   "sourceLang": "en",
   "targetLang": "fr",
   "useGoogleTranslate": true
  },
  "toc": {
   "base_numbering": 1,
   "nav_menu": {},
   "number_sections": true,
   "sideBar": true,
   "skip_h1_title": false,
   "title_cell": "Table of Contents",
   "title_sidebar": "Contents",
   "toc_cell": false,
   "toc_position": {},
   "toc_section_display": true,
   "toc_window_display": false
  },
  "varInspector": {
   "cols": {
    "lenName": 16,
    "lenType": 16,
    "lenVar": 40
   },
   "kernels_config": {
    "python": {
     "delete_cmd_postfix": "",
     "delete_cmd_prefix": "del ",
     "library": "var_list.py",
     "varRefreshCmd": "print(var_dic_list())"
    },
    "r": {
     "delete_cmd_postfix": ") ",
     "delete_cmd_prefix": "rm(",
     "library": "var_list.r",
     "varRefreshCmd": "cat(var_dic_list()) "
    }
   },
   "types_to_exclude": [
    "module",
    "function",
    "builtin_function_or_method",
    "instance",
    "_Feature"
   ],
   "window_display": false
  }
 },
 "nbformat": 4,
 "nbformat_minor": 4
}
